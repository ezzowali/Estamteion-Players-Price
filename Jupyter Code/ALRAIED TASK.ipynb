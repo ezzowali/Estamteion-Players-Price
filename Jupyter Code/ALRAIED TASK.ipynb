{
 "cells": [
  {
   "cell_type": "code",
   "execution_count": 11,
   "id": "92cd6631",
   "metadata": {},
   "outputs": [],
   "source": [
    "from bs4 import BeautifulSoup as BS\n",
    "from bs4 import BeautifulSoup\n",
    "import requests\n",
    "import time, os\n",
    "import numpy as np \n",
    "import pandas as pd"
   ]
  },
  {
   "cell_type": "code",
   "execution_count": 12,
   "id": "59b10f57",
   "metadata": {},
   "outputs": [],
   "source": [
    "# conda install selenium"
   ]
  },
  {
   "cell_type": "code",
   "execution_count": 13,
   "id": "47d9f63d",
   "metadata": {},
   "outputs": [],
   "source": [
    "from selenium import webdriver\n",
    "from selenium.webdriver.common.keys import Keys\n",
    "\n",
    "chromedriver = \"/Applications/chromedriver\" # path to the chromedriver executable\n",
    "os.environ[\"webdriver.chrome.driver\"] = chromedriver"
   ]
  },
  {
   "cell_type": "code",
   "execution_count": 14,
   "id": "7afd14d9",
   "metadata": {},
   "outputs": [],
   "source": [
    "# driver = webdriver.Chrome(chromedriver)\n",
    "# soup = BeautifulSoup(driver.page_source, 'html.parser')\n"
   ]
  },
  {
   "cell_type": "code",
   "execution_count": 15,
   "id": "f247203b",
   "metadata": {},
   "outputs": [
    {
     "name": "stderr",
     "output_type": "stream",
     "text": [
      "\n",
      "\n",
      "====== WebDriver manager ======\n",
      "Current google-chrome version is 96.0.4664\n",
      "Get LATEST chromedriver version for 96.0.4664 google-chrome\n",
      "Trying to download new driver from https://chromedriver.storage.googleapis.com/96.0.4664.45/chromedriver_mac64.zip\n",
      "Driver has been saved in cache [/Users/ezzowali/.wdm/drivers/chromedriver/mac64/96.0.4664.45]\n"
     ]
    }
   ],
   "source": [
    "from selenium import webdriver\n",
    "from webdriver_manager.chrome import ChromeDriverManager\n",
    "from selenium import webdriver\n",
    "from selenium.webdriver.common.keys import Keys\n",
    "\n",
    "driver = webdriver.Chrome(ChromeDriverManager().install())"
   ]
  },
  {
   "cell_type": "code",
   "execution_count": 16,
   "id": "a1db4e45",
   "metadata": {},
   "outputs": [],
   "source": [
    "driver.get('https://www.saudiexchange.sa/wps/portal/tadawul/home/?locale=en')"
   ]
  },
  {
   "cell_type": "code",
   "execution_count": 17,
   "id": "f9b71394",
   "metadata": {},
   "outputs": [],
   "source": [
    "soup = BeautifulSoup(driver.page_source, 'html.parser')"
   ]
  },
  {
   "cell_type": "markdown",
   "id": "594d2944",
   "metadata": {},
   "source": [
    "# ID Names"
   ]
  },
  {
   "cell_type": "markdown",
   "id": "d18e98d6",
   "metadata": {},
   "source": [
    "- this is indexNameT(), the name of every row to index element, between the bracket number of every row, starting from 1 ending 23 "
   ]
  },
  {
   "cell_type": "code",
   "execution_count": 25,
   "id": "afdf1e6b",
   "metadata": {},
   "outputs": [
    {
     "data": {
      "text/plain": [
       "['indexNameT1',\n",
       " 'indexNameT2',\n",
       " 'indexNameT3',\n",
       " 'indexNameT4',\n",
       " 'indexNameT5',\n",
       " 'indexNameT6',\n",
       " 'indexNameT7',\n",
       " 'indexNameT8',\n",
       " 'indexNameT9',\n",
       " 'indexNameT10',\n",
       " 'indexNameT11',\n",
       " 'indexNameT12',\n",
       " 'indexNameT13',\n",
       " 'indexNameT14',\n",
       " 'indexNameT15',\n",
       " 'indexNameT16',\n",
       " 'indexNameT17',\n",
       " 'indexNameT18',\n",
       " 'indexNameT19',\n",
       " 'indexNameT20',\n",
       " 'indexNameT21',\n",
       " 'indexNameT22',\n",
       " 'indexNameT23']"
      ]
     },
     "execution_count": 25,
     "metadata": {},
     "output_type": "execute_result"
    }
   ],
   "source": [
    "def get_id_names(num_of_rows):\n",
    "    url = 'indexNameT{}' \n",
    "    url_index_Name=[]\n",
    "    for num in num_of_rows :\n",
    "        if num >0:\n",
    "            file_url=url.format(num)\n",
    "            url_index_Name.append(file_url)\n",
    "    return url_index_Name\n",
    "\n",
    "num_of_rows = list(range(24))\n",
    "\n",
    "index_Name = get_id_names(num_of_rows)\n",
    "index_Name\n"
   ]
  },
  {
   "cell_type": "markdown",
   "id": "630a52f8",
   "metadata": {},
   "source": [
    "- this is indexValueT() , the name of every row to Value element, between the bracket number of every row, starting from 1 ending 23 \n"
   ]
  },
  {
   "cell_type": "code",
   "execution_count": 26,
   "id": "edebce74",
   "metadata": {},
   "outputs": [
    {
     "data": {
      "text/plain": [
       "['indexValueT1',\n",
       " 'indexValueT2',\n",
       " 'indexValueT3',\n",
       " 'indexValueT4',\n",
       " 'indexValueT5',\n",
       " 'indexValueT6',\n",
       " 'indexValueT7',\n",
       " 'indexValueT8',\n",
       " 'indexValueT9',\n",
       " 'indexValueT10',\n",
       " 'indexValueT11',\n",
       " 'indexValueT12',\n",
       " 'indexValueT13',\n",
       " 'indexValueT14',\n",
       " 'indexValueT15',\n",
       " 'indexValueT16',\n",
       " 'indexValueT17',\n",
       " 'indexValueT18',\n",
       " 'indexValueT19',\n",
       " 'indexValueT20',\n",
       " 'indexValueT21',\n",
       " 'indexValueT22',\n",
       " 'indexValueT23']"
      ]
     },
     "execution_count": 26,
     "metadata": {},
     "output_type": "execute_result"
    }
   ],
   "source": [
    "\n",
    "\n",
    "def get_id_names(num_of_rows):\n",
    "    url = 'indexValueT{}' \n",
    "    url_Value_Name=[]\n",
    "    for num in num_of_rows :\n",
    "        if num >0:\n",
    "            file_url=url.format(num)\n",
    "            url_Value_Name.append(file_url)\n",
    "    return url_Value_Name\n",
    "\n",
    "num_of_rows = list(range(24))\n",
    "\n",
    "index_value = get_id_names(num_of_rows)\n",
    "index_value\n"
   ]
  },
  {
   "cell_type": "markdown",
   "id": "599e8360",
   "metadata": {},
   "source": [
    "- this is indexChangeT() , the name of every row to Change element, between the bracket number of every row, starting from 1 ending 23 \n"
   ]
  },
  {
   "cell_type": "code",
   "execution_count": 27,
   "id": "5198d24c",
   "metadata": {},
   "outputs": [
    {
     "data": {
      "text/plain": [
       "['indexChangeT1',\n",
       " 'indexChangeT2',\n",
       " 'indexChangeT3',\n",
       " 'indexChangeT4',\n",
       " 'indexChangeT5',\n",
       " 'indexChangeT6',\n",
       " 'indexChangeT7',\n",
       " 'indexChangeT8',\n",
       " 'indexChangeT9',\n",
       " 'indexChangeT10',\n",
       " 'indexChangeT11',\n",
       " 'indexChangeT12',\n",
       " 'indexChangeT13',\n",
       " 'indexChangeT14',\n",
       " 'indexChangeT15',\n",
       " 'indexChangeT16',\n",
       " 'indexChangeT17',\n",
       " 'indexChangeT18',\n",
       " 'indexChangeT19',\n",
       " 'indexChangeT20',\n",
       " 'indexChangeT21',\n",
       " 'indexChangeT22',\n",
       " 'indexChangeT23']"
      ]
     },
     "execution_count": 27,
     "metadata": {},
     "output_type": "execute_result"
    }
   ],
   "source": [
    "\n",
    "\n",
    "def get_id_names(num_of_rows):\n",
    "    url = 'indexChangeT{}' \n",
    "    url_Change_Name=[]\n",
    "    for num in num_of_rows :\n",
    "        if num >0:\n",
    "            file_url=url.format(num)\n",
    "            url_Change_Name.append(file_url)\n",
    "    return url_Change_Name\n",
    "\n",
    "num_of_rows = list(range(24))\n",
    "\n",
    "index_change = get_id_names(num_of_rows)\n",
    "index_change\n"
   ]
  },
  {
   "cell_type": "markdown",
   "id": "9a9df33c",
   "metadata": {},
   "source": [
    "- this is indexPercentChangeT() , the name of every row to Percent Change element, between the bracket number of every row, starting from 1 ending 23 \n"
   ]
  },
  {
   "cell_type": "code",
   "execution_count": 28,
   "id": "7ec6b11c",
   "metadata": {},
   "outputs": [
    {
     "data": {
      "text/plain": [
       "['indexPercentChangeT1',\n",
       " 'indexPercentChangeT2',\n",
       " 'indexPercentChangeT3',\n",
       " 'indexPercentChangeT4',\n",
       " 'indexPercentChangeT5',\n",
       " 'indexPercentChangeT6',\n",
       " 'indexPercentChangeT7',\n",
       " 'indexPercentChangeT8',\n",
       " 'indexPercentChangeT9',\n",
       " 'indexPercentChangeT10',\n",
       " 'indexPercentChangeT11',\n",
       " 'indexPercentChangeT12',\n",
       " 'indexPercentChangeT13',\n",
       " 'indexPercentChangeT14',\n",
       " 'indexPercentChangeT15',\n",
       " 'indexPercentChangeT16',\n",
       " 'indexPercentChangeT17',\n",
       " 'indexPercentChangeT18',\n",
       " 'indexPercentChangeT19',\n",
       " 'indexPercentChangeT20',\n",
       " 'indexPercentChangeT21',\n",
       " 'indexPercentChangeT22',\n",
       " 'indexPercentChangeT23']"
      ]
     },
     "execution_count": 28,
     "metadata": {},
     "output_type": "execute_result"
    }
   ],
   "source": [
    "\n",
    "\n",
    "def get_id_names(num_of_rows):\n",
    "    url = 'indexPercentChangeT{}' \n",
    "    url_Percent_Name=[]\n",
    "    for num in num_of_rows :\n",
    "        if num >0:\n",
    "            file_url=url.format(num)\n",
    "            url_Percent_Name.append(file_url)\n",
    "    return url_Percent_Name\n",
    "\n",
    "num_of_rows = list(range(24))\n",
    "\n",
    "index_percent = get_id_names(num_of_rows)\n",
    "index_percent\n"
   ]
  },
  {
   "cell_type": "markdown",
   "id": "128035a9",
   "metadata": {},
   "source": [
    "# collecting the data and arrange it "
   ]
  },
  {
   "cell_type": "code",
   "execution_count": 29,
   "id": "8e2b657e",
   "metadata": {},
   "outputs": [],
   "source": [
    "index = []\n",
    "value = []\n",
    "change = []\n",
    "persnt_change = []"
   ]
  },
  {
   "cell_type": "code",
   "execution_count": 30,
   "id": "b3b03bff",
   "metadata": {},
   "outputs": [],
   "source": [
    "\n",
    "for index_for in index_Name:\n",
    "    index_id=soup.find('a',{\"id\": index_for},href=True)\n",
    "    index.append(index_id.text)\n"
   ]
  },
  {
   "cell_type": "code",
   "execution_count": 31,
   "id": "d941501c",
   "metadata": {},
   "outputs": [],
   "source": [
    "\n",
    "for chang_for in index_change:\n",
    "    change_id=soup.find('td',{\"id\": chang_for})\n",
    "    change.append(change_id.text)\n",
    "    \n"
   ]
  },
  {
   "cell_type": "code",
   "execution_count": 32,
   "id": "9d344cf6",
   "metadata": {},
   "outputs": [],
   "source": [
    "for value_for in index_value:\n",
    "    value_id=soup.find('span',{\"id\": value_for})\n",
    "    value.append(value_id.text)\n",
    "    \n"
   ]
  },
  {
   "cell_type": "code",
   "execution_count": 33,
   "id": "8680d1d4",
   "metadata": {},
   "outputs": [],
   "source": [
    "for percent_for in index_percent:\n",
    "    percent_id=soup.find('span',{\"id\": percent_for})\n",
    "    persnt_change.append(percent_id.text)\n",
    "    \n"
   ]
  },
  {
   "cell_type": "markdown",
   "id": "848b66dd",
   "metadata": {},
   "source": [
    "## place the data into data Frame"
   ]
  },
  {
   "cell_type": "code",
   "execution_count": 34,
   "id": "7ab7ea12",
   "metadata": {},
   "outputs": [],
   "source": [
    "\n",
    "Final_Df = pd.DataFrame(columns=['index','value', 'change', 'persnt_change'])"
   ]
  },
  {
   "cell_type": "code",
   "execution_count": 35,
   "id": "f560f514",
   "metadata": {},
   "outputs": [],
   "source": [
    "Final_Df['index'] = index\n",
    "Final_Df['value'] = value\n",
    "Final_Df['change'] = change\n",
    "Final_Df['persnt_change'] = persnt_change\n"
   ]
  },
  {
   "cell_type": "code",
   "execution_count": 36,
   "id": "83253704",
   "metadata": {},
   "outputs": [
    {
     "data": {
      "text/html": [
       "<div>\n",
       "<style scoped>\n",
       "    .dataframe tbody tr th:only-of-type {\n",
       "        vertical-align: middle;\n",
       "    }\n",
       "\n",
       "    .dataframe tbody tr th {\n",
       "        vertical-align: top;\n",
       "    }\n",
       "\n",
       "    .dataframe thead th {\n",
       "        text-align: right;\n",
       "    }\n",
       "</style>\n",
       "<table border=\"1\" class=\"dataframe\">\n",
       "  <thead>\n",
       "    <tr style=\"text-align: right;\">\n",
       "      <th></th>\n",
       "      <th>index</th>\n",
       "      <th>value</th>\n",
       "      <th>change</th>\n",
       "      <th>persnt_change</th>\n",
       "    </tr>\n",
       "  </thead>\n",
       "  <tbody>\n",
       "    <tr>\n",
       "      <th>0</th>\n",
       "      <td>Tadawul All Share Index (TASI)</td>\n",
       "      <td>11,019.86</td>\n",
       "      <td>50.80</td>\n",
       "      <td>0.46</td>\n",
       "    </tr>\n",
       "    <tr>\n",
       "      <th>1</th>\n",
       "      <td>MSCI Tadawul 30 Index</td>\n",
       "      <td>1,503.34</td>\n",
       "      <td>6.13</td>\n",
       "      <td>0.41</td>\n",
       "    </tr>\n",
       "    <tr>\n",
       "      <th>2</th>\n",
       "      <td>Energy</td>\n",
       "      <td>5,421.14</td>\n",
       "      <td>12.03</td>\n",
       "      <td>0.22</td>\n",
       "    </tr>\n",
       "    <tr>\n",
       "      <th>3</th>\n",
       "      <td>Materials</td>\n",
       "      <td>7,238.65</td>\n",
       "      <td>58.17</td>\n",
       "      <td>0.81</td>\n",
       "    </tr>\n",
       "    <tr>\n",
       "      <th>4</th>\n",
       "      <td>Capital Goods</td>\n",
       "      <td>7,760.53</td>\n",
       "      <td>78.20</td>\n",
       "      <td>1.02</td>\n",
       "    </tr>\n",
       "    <tr>\n",
       "      <th>5</th>\n",
       "      <td>Commercial &amp; Professional Svc</td>\n",
       "      <td>4,788.64</td>\n",
       "      <td>77.25</td>\n",
       "      <td>1.64</td>\n",
       "    </tr>\n",
       "    <tr>\n",
       "      <th>6</th>\n",
       "      <td>Transportation</td>\n",
       "      <td>5,576.90</td>\n",
       "      <td>-16.82</td>\n",
       "      <td>-0.30</td>\n",
       "    </tr>\n",
       "    <tr>\n",
       "      <th>7</th>\n",
       "      <td>Consumer Durables &amp; Apparel</td>\n",
       "      <td>6,778.18</td>\n",
       "      <td>130.87</td>\n",
       "      <td>1.97</td>\n",
       "    </tr>\n",
       "    <tr>\n",
       "      <th>8</th>\n",
       "      <td>Consumer Services</td>\n",
       "      <td>4,933.09</td>\n",
       "      <td>66.79</td>\n",
       "      <td>1.37</td>\n",
       "    </tr>\n",
       "    <tr>\n",
       "      <th>9</th>\n",
       "      <td>Media and Entertainment</td>\n",
       "      <td>19,844.50</td>\n",
       "      <td>119.95</td>\n",
       "      <td>0.61</td>\n",
       "    </tr>\n",
       "    <tr>\n",
       "      <th>10</th>\n",
       "      <td>Retailing</td>\n",
       "      <td>9,714.98</td>\n",
       "      <td>-17.95</td>\n",
       "      <td>-0.18</td>\n",
       "    </tr>\n",
       "    <tr>\n",
       "      <th>11</th>\n",
       "      <td>Food &amp; Staples Retailing</td>\n",
       "      <td>9,421.13</td>\n",
       "      <td>105.28</td>\n",
       "      <td>1.13</td>\n",
       "    </tr>\n",
       "    <tr>\n",
       "      <th>12</th>\n",
       "      <td>Food &amp; Beverages</td>\n",
       "      <td>4,956.73</td>\n",
       "      <td>4.01</td>\n",
       "      <td>0.08</td>\n",
       "    </tr>\n",
       "    <tr>\n",
       "      <th>13</th>\n",
       "      <td>Health Care Equipment &amp; Svc</td>\n",
       "      <td>7,220.45</td>\n",
       "      <td>-20.08</td>\n",
       "      <td>-0.28</td>\n",
       "    </tr>\n",
       "    <tr>\n",
       "      <th>14</th>\n",
       "      <td>Pharma, Biotech &amp; Life Science</td>\n",
       "      <td>5,230.88</td>\n",
       "      <td>164.91</td>\n",
       "      <td>3.26</td>\n",
       "    </tr>\n",
       "    <tr>\n",
       "      <th>15</th>\n",
       "      <td>Banks</td>\n",
       "      <td>11,597.54</td>\n",
       "      <td>27.63</td>\n",
       "      <td>0.24</td>\n",
       "    </tr>\n",
       "    <tr>\n",
       "      <th>16</th>\n",
       "      <td>Diversified Financials</td>\n",
       "      <td>7,206.25</td>\n",
       "      <td>-7.58</td>\n",
       "      <td>-0.11</td>\n",
       "    </tr>\n",
       "    <tr>\n",
       "      <th>17</th>\n",
       "      <td>Insurance</td>\n",
       "      <td>6,224.84</td>\n",
       "      <td>63.41</td>\n",
       "      <td>1.03</td>\n",
       "    </tr>\n",
       "    <tr>\n",
       "      <th>18</th>\n",
       "      <td>Software &amp; Services</td>\n",
       "      <td>27,304.27</td>\n",
       "      <td>20.32</td>\n",
       "      <td>0.07</td>\n",
       "    </tr>\n",
       "    <tr>\n",
       "      <th>19</th>\n",
       "      <td>Telecommunication Services</td>\n",
       "      <td>7,133.60</td>\n",
       "      <td>110.35</td>\n",
       "      <td>1.57</td>\n",
       "    </tr>\n",
       "    <tr>\n",
       "      <th>20</th>\n",
       "      <td>Utilities</td>\n",
       "      <td>5,762.74</td>\n",
       "      <td>12.01</td>\n",
       "      <td>0.21</td>\n",
       "    </tr>\n",
       "    <tr>\n",
       "      <th>21</th>\n",
       "      <td>REITs</td>\n",
       "      <td>4,767.37</td>\n",
       "      <td>33.71</td>\n",
       "      <td>0.71</td>\n",
       "    </tr>\n",
       "    <tr>\n",
       "      <th>22</th>\n",
       "      <td>Real Estate Mgmt &amp; Dev't</td>\n",
       "      <td>3,309.50</td>\n",
       "      <td>23.76</td>\n",
       "      <td>0.72</td>\n",
       "    </tr>\n",
       "  </tbody>\n",
       "</table>\n",
       "</div>"
      ],
      "text/plain": [
       "                             index      value  change persnt_change\n",
       "0   Tadawul All Share Index (TASI)  11,019.86   50.80          0.46\n",
       "1           MSCI Tadawul 30 Index    1,503.34    6.13          0.41\n",
       "2                           Energy   5,421.14   12.03          0.22\n",
       "3                        Materials   7,238.65   58.17          0.81\n",
       "4                    Capital Goods   7,760.53   78.20          1.02\n",
       "5    Commercial & Professional Svc   4,788.64   77.25          1.64\n",
       "6                   Transportation   5,576.90  -16.82         -0.30\n",
       "7      Consumer Durables & Apparel   6,778.18  130.87          1.97\n",
       "8                Consumer Services   4,933.09   66.79          1.37\n",
       "9          Media and Entertainment  19,844.50  119.95          0.61\n",
       "10                       Retailing   9,714.98  -17.95         -0.18\n",
       "11        Food & Staples Retailing   9,421.13  105.28          1.13\n",
       "12                Food & Beverages   4,956.73    4.01          0.08\n",
       "13     Health Care Equipment & Svc   7,220.45  -20.08         -0.28\n",
       "14  Pharma, Biotech & Life Science   5,230.88  164.91          3.26\n",
       "15                           Banks  11,597.54   27.63          0.24\n",
       "16          Diversified Financials   7,206.25   -7.58         -0.11\n",
       "17                       Insurance   6,224.84   63.41          1.03\n",
       "18             Software & Services  27,304.27   20.32          0.07\n",
       "19      Telecommunication Services   7,133.60  110.35          1.57\n",
       "20                       Utilities   5,762.74   12.01          0.21\n",
       "21                           REITs   4,767.37   33.71          0.71\n",
       "22        Real Estate Mgmt & Dev't   3,309.50   23.76          0.72"
      ]
     },
     "execution_count": 36,
     "metadata": {},
     "output_type": "execute_result"
    }
   ],
   "source": [
    "Final_Df"
   ]
  },
  {
   "cell_type": "markdown",
   "id": "5c211f20",
   "metadata": {},
   "source": [
    "# export the data into CSV File "
   ]
  },
  {
   "cell_type": "code",
   "execution_count": 1484,
   "id": "b241232e",
   "metadata": {},
   "outputs": [],
   "source": [
    "Final_Df.to_csv('alraedah.csv')"
   ]
  }
 ],
 "metadata": {
  "kernelspec": {
   "display_name": "Python 3",
   "language": "python",
   "name": "python3"
  },
  "language_info": {
   "codemirror_mode": {
    "name": "ipython",
    "version": 3
   },
   "file_extension": ".py",
   "mimetype": "text/x-python",
   "name": "python",
   "nbconvert_exporter": "python",
   "pygments_lexer": "ipython3",
   "version": "3.8.8"
  }
 },
 "nbformat": 4,
 "nbformat_minor": 5
}
